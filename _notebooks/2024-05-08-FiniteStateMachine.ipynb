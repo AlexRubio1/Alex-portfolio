{
 "cells": [
  {
   "cell_type": "markdown",
   "metadata": {},
   "source": [
    "---\n",
    "toc: true\n",
    "comments: true\n",
    "layout: post\n",
    "title: Finite State machine\n",
    "description: The VendingMachine class still represents the vending machine.\n",
    "It has a single method selectItemAndPay to simulate the user selecting an item and making a payment.\n",
    "The vending machine transitions between the \"idle\" and \"busy\" states implicitly within this method based on its current state.\n",
    "If the vending machine is \"idle\", it processes the user request and returns to the \"idle\" state after completing the process. Otherwise, it informs the user that it's busy.\n",
    "---"
   ]
  },
  {
   "cell_type": "code",
   "execution_count": 29,
   "metadata": {},
   "outputs": [
    {
     "data": {
      "application/javascript": "\nclass VendingMachine {\n  constructor() {\n    this.state = 'idle'; // Initial state\n  }\n\n  // Function to transition to a new state\n  transition(newState) {\n    console.log(`Transitioning from ${this.state} to ${newState}`);\n    this.state = newState;\n  }\n\n  // Function to simulate selecting an item\n  selectItem(item) {\n    if (this.state === 'idle') {\n      console.log(`Selected item: ${item}`);\n      this.transition('processingPayment');\n    } else {\n      console.log('Please finish the current process before selecting a new item.');\n    }\n  }\n\n  // Function to simulate processing payment\n  processPayment(amount) {\n    if (this.state === 'processingPayment') {\n      console.log(`Payment processed: $${amount.toFixed(2)} received.`);\n      this.transition('dispensingItem');\n    } else {\n      console.log('Please select an item before processing payment.');\n    }\n  }\n\n  // Function to simulate dispensing item\n  dispenseItem() {\n    if (this.state === 'dispensingItem') {\n      console.log('Item dispensed. Enjoy your purchase!');\n      this.transition('idle');\n    } else {\n      console.log('Please complete the payment process before dispensing an item.');\n    }\n  }\n}\n\n// Example usage\nconst vendingMachine = new VendingMachine();\n\n// Simulating a vending machine process\nvendingMachine.selectItem('Soda');\nvendingMachine.processPayment(1.5);\nvendingMachine.dispenseItem();\n",
      "text/plain": [
       "<IPython.core.display.Javascript object>"
      ]
     },
     "metadata": {},
     "output_type": "display_data"
    }
   ],
   "source": [
    "%%javascript\n",
    "\n",
    "class VendingMachine {\n",
    "  constructor() {\n",
    "    this.state = 'idle'; // Initial state\n",
    "  }\n",
    "\n",
    "  // Function to transition to a new state\n",
    "  transition(newState) {\n",
    "    console.log(`Transitioning from ${this.state} to ${newState}`);\n",
    "    this.state = newState;\n",
    "  }\n",
    "\n",
    "  // Function to simulate selecting an item\n",
    "  selectItem(item) {\n",
    "    if (this.state === 'idle') {\n",
    "      console.log(`Selected item: ${item}`);\n",
    "      this.transition('processingPayment');\n",
    "    } else {\n",
    "      console.log('Please finish the current process before selecting a new item.');\n",
    "    }\n",
    "  }\n",
    "\n",
    "  // Function to simulate processing payment\n",
    "  processPayment(amount) {\n",
    "    if (this.state === 'processingPayment') {\n",
    "      console.log(`Payment processed: $${amount.toFixed(2)} received.`);\n",
    "      this.transition('dispensingItem');\n",
    "    } else {\n",
    "      console.log('Please select an item before processing payment.');\n",
    "    }\n",
    "  }\n",
    "\n",
    "  // Function to simulate dispensing item\n",
    "  dispenseItem() {\n",
    "    if (this.state === 'dispensingItem') {\n",
    "      console.log('Item dispensed. Enjoy your purchase!');\n",
    "      this.transition('idle');\n",
    "    } else {\n",
    "      console.log('Please complete the payment process before dispensing an item.');\n",
    "    }\n",
    "  }\n",
    "}\n",
    "\n",
    "// Example usage\n",
    "const vendingMachine = new VendingMachine();\n",
    "\n",
    "// Simulating a vending machine process\n",
    "vendingMachine.selectItem('Soda');\n",
    "vendingMachine.processPayment(1.5);\n",
    "vendingMachine.dispenseItem();\n"
   ]
  }
 ],
 "metadata": {
  "kernelspec": {
   "display_name": "Python 3",
   "language": "python",
   "name": "python3"
  },
  "language_info": {
   "codemirror_mode": {
    "name": "ipython",
    "version": 3
   },
   "file_extension": ".py",
   "mimetype": "text/x-python",
   "name": "python",
   "nbconvert_exporter": "python",
   "pygments_lexer": "ipython3",
   "version": "3.9.6"
  }
 },
 "nbformat": 4,
 "nbformat_minor": 2
}
