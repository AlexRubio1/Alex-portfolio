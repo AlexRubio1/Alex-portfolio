{
 "cells": [
  {
   "cell_type": "code",
   "execution_count": 55,
   "metadata": {},
   "outputs": [
    {
     "ename": "SyntaxError",
     "evalue": "invalid syntax (635983039.py, line 1)",
     "output_type": "error",
     "traceback": [
      "\u001b[0;36m  Cell \u001b[0;32mIn[55], line 1\u001b[0;36m\u001b[0m\n\u001b[0;31m    ---\u001b[0m\n\u001b[0m       ^\u001b[0m\n\u001b[0;31mSyntaxError\u001b[0m\u001b[0;31m:\u001b[0m invalid syntax\n"
     ]
    }
   ],
   "source": []
  },
  {
   "cell_type": "code",
   "execution_count": 61,
   "metadata": {},
   "outputs": [
    {
     "data": {
      "application/javascript": "\nclass VendingMachine {\n  constructor() {\n    this.state = 'idle'; // Initial state\n    this.processLogs = []; // Array to store process logs\n  }\n\n  // Function to transition to a new state\n  transition(newState) {\n    const transitionMsg = `Transitioning from ${this.state} to ${newState}`;\n    this.processLogs.push(transitionMsg);\n    this.state = newState;\n  }\n\n  // Function to simulate selecting an item\n  selectItem(item) {\n    if (this.state === 'idle') {\n      const msg = `Selected item: ${item}`;\n      this.processLogs.push(msg);\n      this.transition('processingPayment');\n    } else {\n      this.processLogs.push('Please finish the current process before selecting a new item.');\n    }\n  }\n\n  // Function to simulate processing payment\n  processPayment(amount) {\n    if (this.state === 'processingPayment') {\n      const msg = `Payment processed: $${amount.toFixed(2)} received.`;\n      this.processLogs.push(msg);\n      this.transition('dispensingItem');\n    } else {\n      this.processLogs.push('Please select an item before processing payment.');\n    }\n  }\n\n  // Function to simulate dispensing item\n  dispenseItem() {\n    if (this.state === 'dispensingItem') {\n      const msg = 'Item dispensed. Enjoy your purchase!';\n      this.processLogs.push(msg);\n      this.transition('idle');\n    } else {\n      this.processLogs.push('Please complete the payment process before dispensing an item.');\n    }\n  }\n\n  // Function to generate output message for the process\n  generateOutput() {\n    let output = '';\n    this.processLogs.forEach(log => {\n      output += log + '<br>';\n    });\n    return output;\n  }\n}\n\n// Example usage\nconst vendingMachine = new VendingMachine();\n\n// Simulating a vending machine process\nvendingMachine.selectItem('Soda');\nvendingMachine.processPayment(1.5);\nvendingMachine.dispenseItem();\n\n// Displaying process logs\nelement.innerHTML = vendingMachine.generateOutput();\n",
      "text/plain": [
       "<IPython.core.display.Javascript object>"
      ]
     },
     "metadata": {},
     "output_type": "display_data"
    }
   ],
   "source": [
    "%%javascript\n",
    "\n",
    "class VendingMachine {\n",
    "  constructor() {\n",
    "    this.state = 'idle'; // Initial state\n",
    "    this.processLogs = []; // Array to store process logs\n",
    "  }\n",
    "\n",
    "  // Function to transition to a new state\n",
    "  transition(newState) {\n",
    "    const transitionMsg = `Transitioning from ${this.state} to ${newState}`;\n",
    "    this.processLogs.push(transitionMsg);\n",
    "    this.state = newState;\n",
    "  }\n",
    "\n",
    "  // Function to simulate selecting an item\n",
    "  selectItem(item) {\n",
    "    if (this.state === 'idle') {\n",
    "      const msg = `Selected item: ${item}`;\n",
    "      this.processLogs.push(msg);\n",
    "      this.transition('processingPayment');\n",
    "    } else {\n",
    "      this.processLogs.push('Please finish the current process before selecting a new item.');\n",
    "    }\n",
    "  }\n",
    "\n",
    "  // Function to simulate processing payment\n",
    "  processPayment(amount) {\n",
    "    if (this.state === 'processingPayment') {\n",
    "      const msg = `Payment processed: $${amount.toFixed(2)} received.`;\n",
    "      this.processLogs.push(msg);\n",
    "      this.transition('dispensingItem');\n",
    "    } else {\n",
    "      this.processLogs.push('Please select an item before processing payment.');\n",
    "    }\n",
    "  }\n",
    "\n",
    "  // Function to simulate dispensing item\n",
    "  dispenseItem() {\n",
    "    if (this.state === 'dispensingItem') {\n",
    "      const msg = 'Item dispensed. Enjoy your purchase!';\n",
    "      this.processLogs.push(msg);\n",
    "      this.transition('idle');\n",
    "    } else {\n",
    "      this.processLogs.push('Please complete the payment process before dispensing an item.');\n",
    "    }\n",
    "  }\n",
    "\n",
    "  // Function to generate output message for the process\n",
    "  generateOutput() {\n",
    "    let output = '';\n",
    "    this.processLogs.forEach(log => {\n",
    "      output += log + '<br>';\n",
    "    });\n",
    "    return output;\n",
    "  }\n",
    "}\n",
    "\n",
    "// Example usage\n",
    "const vendingMachine = new VendingMachine();\n",
    "\n",
    "// Simulating a vending machine process\n",
    "vendingMachine.selectItem('Soda');\n",
    "vendingMachine.processPayment(1.5);\n",
    "vendingMachine.dispenseItem();\n",
    "\n",
    "// Displaying process logs\n",
    "element.innerHTML = vendingMachine.generateOutput();\n"
   ]
  }
 ],
 "metadata": {
  "kernelspec": {
   "display_name": "Python 3",
   "language": "python",
   "name": "python3"
  },
  "language_info": {
   "codemirror_mode": {
    "name": "ipython",
    "version": 3
   },
   "file_extension": ".py",
   "mimetype": "text/x-python",
   "name": "python",
   "nbconvert_exporter": "python",
   "pygments_lexer": "ipython3",
   "version": "3.9.6"
  }
 },
 "nbformat": 4,
 "nbformat_minor": 2
}
