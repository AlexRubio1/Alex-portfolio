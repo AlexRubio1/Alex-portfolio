{
 "cells": [
  {
   "cell_type": "code",
   "execution_count": 4,
   "metadata": {},
   "outputs": [
    {
     "ename": "SyntaxError",
     "evalue": "invalid syntax (4209223458.py, line 1)",
     "output_type": "error",
     "traceback": [
      "\u001b[0;36m  Cell \u001b[0;32mIn[4], line 1\u001b[0;36m\u001b[0m\n\u001b[0;31m    switch (this.state.vendingMachineState) {\u001b[0m\n\u001b[0m                                            ^\u001b[0m\n\u001b[0;31mSyntaxError\u001b[0m\u001b[0;31m:\u001b[0m invalid syntax\n"
     ]
    }
   ],
   "source": [
    "switch (this.state.vendingMachineState) {\n",
    "    // 1. Vending machine is idle\n",
    "    case 'idle':\n",
    "        // Perform actions for idle state\n",
    "        break;\n",
    "    // 2. User has selected a product\n",
    "    case 'productSelected':\n",
    "        // Perform actions for productSelected state\n",
    "        break;\n",
    "    // 3. Payment has been processed successfully\n",
    "    case 'paymentSuccess':\n",
    "        // Perform actions for paymentSuccess state\n",
    "        break;\n",
    "    // 4. Payment failed or insufficient funds\n",
    "    case 'paymentFailed':\n",
    "        // Perform actions for paymentFailed state\n",
    "        break;\n",
    "    // 5. Vending machine is out of stock\n",
    "    case 'outOfStock':\n",
    "        // Perform actions for outOfStock state\n",
    "        break;\n",
    "    // 6. Vending machine is in maintenance mode\n",
    "    case 'maintenance':\n",
    "        // Perform actions for maintenance state\n",
    "        break;\n",
    "    default:\n",
    "        console.error(`Invalid state: ${this.state.vendingMachineState}`);\n",
    "}\n"
   ]
  }
 ],
 "metadata": {
  "kernelspec": {
   "display_name": "Python 3",
   "language": "python",
   "name": "python3"
  },
  "language_info": {
   "codemirror_mode": {
    "name": "ipython",
    "version": 3
   },
   "file_extension": ".py",
   "mimetype": "text/x-python",
   "name": "python",
   "nbconvert_exporter": "python",
   "pygments_lexer": "ipython3",
   "version": "3.9.6"
  }
 },
 "nbformat": 4,
 "nbformat_minor": 2
}
